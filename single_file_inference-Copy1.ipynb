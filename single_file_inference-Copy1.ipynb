{
 "cells": [
  {
   "cell_type": "code",
   "execution_count": null,
   "metadata": {},
   "outputs": [],
   "source": [
    "# /mnt/Enterprise/miccai_2023_CRIS/CRIS.pytorch/datasets/images/train2014/COCO_train2014_000000000307.jpg"
   ]
  },
  {
   "cell_type": "code",
   "execution_count": null,
   "metadata": {},
   "outputs": [],
   "source": [
    "import numpy as np\n",
    "import cv2\n",
    "import matplotlib.pyplot as plt\n",
    "from single_img_inference import infer"
   ]
  },
  {
   "cell_type": "code",
   "execution_count": null,
   "metadata": {},
   "outputs": [],
   "source": [
    "def plot(img, pred, txt, gt_msk=None, img_name=None):\n",
    "    if gt_msk is not None:\n",
    "        col = 3\n",
    "        row = 3\n",
    "    else:\n",
    "        col = 2\n",
    "        row = 2\n",
    "    msk = np.expand_dims(pred, axis=2)\n",
    "    clr_msk = np.zeros(img.shape)\n",
    "    gt_clr_msk = np.zeros(img.shape)\n",
    "    clr_msk[:, :, 1] = pred * 100\n",
    "    gt_clr_msk[:, :, 1] = gt_msk * 100\n",
    "    plt.figure(figsize=(20, 14))\n",
    "    plt.suptitle(f'Image: {img_name}\\nPrompt: {prompt}', fontsize=24)\n",
    "    plt.subplot(row, col, 1)\n",
    "    plt.title(f'Original Image', fontsize=20)\n",
    "    plt.imshow(img)\n",
    "    plt.subplot(row, col, 2)\n",
    "    plt.title(f'Obtained mask', fontsize=20)\n",
    "    plt.imshow(pred, cmap=\"gray\")\n",
    "    plt.subplot(row, col, 3)\n",
    "    plt.title(f'Original Image with overlayed mask', fontsize=20)\n",
    "    plt.imshow((img + clr_msk).astype(\"int\"))\n",
    "    plt.subplot(row, col, 4)\n",
    "    plt.title(f'Masked Image', fontsize=20)\n",
    "    plt.imshow(np.multiply(img, msk).astype(\"int\"))\n",
    "    if gt_msk is not None:\n",
    "        all_msk = np.zeros(img.shape)\n",
    "        all_msk[:, :, 0] = np.array(gt_msk, np.int32) - np.multiply(pred, gt_msk)\n",
    "        all_msk[:, :, 1] = np.multiply(pred, gt_msk)\n",
    "        all_msk[:, :, 2] = np.array(pred, np.int32) - np.multiply(pred, gt_msk)\n",
    "        all_msk *= 128\n",
    "        plt.subplot(row, col, 5)\n",
    "        plt.title(f'Original Mask', fontsize=20)\n",
    "        plt.imshow(gt_msk.astype(\"int\"), cmap=\"gray\")\n",
    "        plt.subplot(row, col, 6)\n",
    "        plt.title(f'Original Image with original mask', fontsize=20)\n",
    "        plt.imshow((img + gt_clr_msk).astype(\"int\"))\n",
    "        plt.subplot(row, col, 7)\n",
    "        plt.title(f'Intersection of Masks', fontsize=20)\n",
    "        ol_msk = np.zeros(all_msk.shape)\n",
    "        ol_msk[:, :, 1] = all_msk[:, :, 1]\n",
    "        plt.imshow(ol_msk)\n",
    "        plt.subplot(row, col, 8)\n",
    "        plt.title(f'Differences of Masks', fontsize=20)\n",
    "        df_msk = np.zeros(all_msk.shape)\n",
    "        df_msk[:, :, 0] = all_msk[:, :, 0]\n",
    "        df_msk[:, :, 2] = all_msk[:, :, 2]\n",
    "        plt.imshow(df_msk)\n",
    "        plt.subplot(row, col, 9)\n",
    "        plt.title(f'Original image with all masks', fontsize=20)\n",
    "        plt.imshow((img + all_msk).astype(\"int\"))"
   ]
  },
  {
   "cell_type": "code",
   "execution_count": null,
   "metadata": {},
   "outputs": [],
   "source": [
    "def get_msk(msk_path=None):\n",
    "    if msk_path != None:\n",
    "        gt_msk = cv2.imread(msk_path, 0)\n",
    "    else:\n",
    "        gt_msk = None\n",
    "    return gt_msk"
   ]
  },
  {
   "cell_type": "code",
   "execution_count": null,
   "metadata": {},
   "outputs": [],
   "source": [
    "# img_path = \"/mnt/Enterprise/miccai_2023_CRIS/CRIS.pytorch/datasets/images/train2014/COCO_train2014_000000000154.jpg\"\n",
    "# msk_path = None\n",
    "# prompt = \"A zebra on top left\""
   ]
  },
  {
   "cell_type": "code",
   "execution_count": null,
   "metadata": {},
   "outputs": [],
   "source": []
  },
  {
   "cell_type": "code",
   "execution_count": null,
   "metadata": {},
   "outputs": [],
   "source": []
  },
  {
   "cell_type": "code",
   "execution_count": null,
   "metadata": {},
   "outputs": [],
   "source": []
  },
  {
   "cell_type": "code",
   "execution_count": null,
   "metadata": {},
   "outputs": [],
   "source": []
  },
  {
   "cell_type": "code",
   "execution_count": null,
   "metadata": {},
   "outputs": [],
   "source": []
  },
  {
   "cell_type": "code",
   "execution_count": null,
   "metadata": {},
   "outputs": [],
   "source": []
  },
  {
   "cell_type": "code",
   "execution_count": null,
   "metadata": {},
   "outputs": [],
   "source": []
  },
  {
   "cell_type": "code",
   "execution_count": null,
   "metadata": {},
   "outputs": [],
   "source": [
    "img_num = '475'"
   ]
  },
  {
   "cell_type": "code",
   "execution_count": null,
   "metadata": {},
   "outputs": [],
   "source": [
    "img_path = f\"/mnt/Enterprise/PUBLIC_DATASETS/polyp_datasets/Kvasir-SEG/images_cf/{img_num}.jpg\"\n",
    "msk_path = f\"/mnt/Enterprise/PUBLIC_DATASETS/polyp_datasets/Kvasir-SEG/masks_cf/{img_num}.png\"\n",
    "prompt = \"\"\n",
    "# prompt = \"circle center brown large\"\n",
    "# prompt = \"medium sized circular tissue on central part of image\"\n",
    "img_name = img_path.split('/')[-1]\n",
    "img_num = str(int(img_num) + 1)"
   ]
  },
  {
   "cell_type": "code",
   "execution_count": null,
   "metadata": {
    "scrolled": true
   },
   "outputs": [],
   "source": [
    "img, txt, pred = infer(img_path, prompt)\n",
    "gt_msk = get_msk(msk_path)"
   ]
  },
  {
   "cell_type": "code",
   "execution_count": null,
   "metadata": {},
   "outputs": [],
   "source": [
    "plot(img, pred, txt, gt_msk > 128, img_name)"
   ]
  },
  {
   "cell_type": "code",
   "execution_count": null,
   "metadata": {},
   "outputs": [],
   "source": []
  },
  {
   "cell_type": "code",
   "execution_count": null,
   "metadata": {},
   "outputs": [],
   "source": []
  },
  {
   "cell_type": "code",
   "execution_count": null,
   "metadata": {},
   "outputs": [],
   "source": []
  },
  {
   "cell_type": "code",
   "execution_count": null,
   "metadata": {},
   "outputs": [],
   "source": []
  }
 ],
 "metadata": {
  "interpreter": {
   "hash": "fabd4ddb5f1cf132a1ed3cccd5101135d64cf9eda4e3d36811c95ff669af72fc"
  },
  "kernelspec": {
   "display_name": "Python 3 (ipykernel)",
   "language": "python",
   "name": "python3"
  },
  "language_info": {
   "codemirror_mode": {
    "name": "ipython",
    "version": 3
   },
   "file_extension": ".py",
   "mimetype": "text/x-python",
   "name": "python",
   "nbconvert_exporter": "python",
   "pygments_lexer": "ipython3",
   "version": "3.10.6"
  }
 },
 "nbformat": 4,
 "nbformat_minor": 2
}
